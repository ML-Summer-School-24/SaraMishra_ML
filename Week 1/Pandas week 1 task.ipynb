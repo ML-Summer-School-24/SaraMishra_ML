{
 "cells": [
  {
   "cell_type": "code",
   "execution_count": 53,
   "id": "fe876ecf",
   "metadata": {},
   "outputs": [
    {
     "name": "stdout",
     "output_type": "stream",
     "text": [
      "   Roll No Name Gender  Marks 1  Marks 2  Marks 3\n",
      "0        1    A      M       30       45       59\n",
      "1        2    B      F       69       89       79\n",
      "2        3    C      M       40       67       68\n",
      "3        4    D      M       23       90      100\n",
      "4        5    E      F       89       99       76\n",
      "5        6    F      F       45       56       96\n",
      "6        7    G      M       92       23       35\n",
      "7        8    H      F       94       78       78\n",
      "8        9    I      M       78       34       24\n",
      "9       10    J      F       87       58       92\n"
     ]
    }
   ],
   "source": [
    "import pandas as pd\n",
    "\n",
    "data={'Roll No': [1, 2, 3, 4, 5, 6, 7, 8, 9, 10],\n",
    "  'Name': ['A', 'B', 'C', 'D', 'E', 'F', 'G', 'H', 'I', 'J'],\n",
    "  'Gender': ['M', 'F', 'M', 'M', 'F', 'F', 'M', 'F', 'M', 'F'],\n",
    "  'Marks 1': [30, 69, 40, 23, 89, 45, 92, 94, 78, 87 ],\n",
    "  'Marks 2': [45, 89, 67, 90, 99, 56, 23, 78, 34, 58 ],\n",
    "  'Marks 3': [59, 79, 68, 100, 76, 96, 35, 78, 24, 92] }\n",
    "\n",
    "df = pd.DataFrame(data)\n",
    "\n",
    "print(df)"
   ]
  },
  {
   "cell_type": "code",
   "execution_count": 54,
   "id": "ee87ba13",
   "metadata": {},
   "outputs": [
    {
     "name": "stdout",
     "output_type": "stream",
     "text": [
      "   Roll No Name Gender  Marks 1  Marks 2  Marks 3  Total marks\n",
      "0        1    A      M       30       45       59          134\n",
      "1        2    B      F       69       89       79          237\n",
      "2        3    C      M       40       67       68          175\n",
      "3        4    D      M       23       90      100          213\n",
      "4        5    E      F       89       99       76          264\n",
      "5        6    F      F       45       56       96          197\n",
      "6        7    G      M       92       23       35          150\n",
      "7        8    H      F       94       78       78          250\n",
      "8        9    I      M       78       34       24          136\n",
      "9       10    J      F       87       58       92          237\n"
     ]
    }
   ],
   "source": [
    "df['Total marks'] = df.iloc[ : , 3:6].sum(axis=1)\n",
    "\n",
    "print(df)"
   ]
  },
  {
   "cell_type": "code",
   "execution_count": 55,
   "id": "90a54028",
   "metadata": {},
   "outputs": [
    {
     "name": "stdout",
     "output_type": "stream",
     "text": [
      "Lowest marks among marks 1:  23\n"
     ]
    }
   ],
   "source": [
    "lowestmarks_marks1 = df[\"Marks 1\"].min()\n",
    "\n",
    "print(\"Lowest marks among marks 1: \", lowestmarks_marks1 )"
   ]
  },
  {
   "cell_type": "code",
   "execution_count": 56,
   "id": "3fa886e9",
   "metadata": {},
   "outputs": [
    {
     "name": "stdout",
     "output_type": "stream",
     "text": [
      "Highest marks among marks 2:  99\n"
     ]
    }
   ],
   "source": [
    "highestmarks_marks2 = df[\"Marks 2\"].max()\n",
    "\n",
    "print(\"Highest marks among marks 2: \", highestmarks_marks2 )"
   ]
  },
  {
   "cell_type": "code",
   "execution_count": 57,
   "id": "bdbda1e7",
   "metadata": {},
   "outputs": [
    {
     "name": "stdout",
     "output_type": "stream",
     "text": [
      "Average marks of marks 3:  70.7\n"
     ]
    }
   ],
   "source": [
    "averagemarks_marks3 = df[\"Marks 3\"].mean()\n",
    "\n",
    "print(\"Average marks of marks 3: \", averagemarks_marks3 )"
   ]
  },
  {
   "cell_type": "code",
   "execution_count": 58,
   "id": "0d5e9e11",
   "metadata": {},
   "outputs": [
    {
     "name": "stdout",
     "output_type": "stream",
     "text": [
      "Highest average marks is: 88.0\n",
      "Name of teh student: E\n",
      "   Roll No Name Gender  Marks 1  Marks 2  Marks 3  Total marks    Average\n",
      "0        1    A      M       30       45       59          134  44.666667\n",
      "1        2    B      F       69       89       79          237  79.000000\n",
      "2        3    C      M       40       67       68          175  58.333333\n",
      "3        4    D      M       23       90      100          213  71.000000\n",
      "4        5    E      F       89       99       76          264  88.000000\n",
      "5        6    F      F       45       56       96          197  65.666667\n",
      "6        7    G      M       92       23       35          150  50.000000\n",
      "7        8    H      F       94       78       78          250  83.333333\n",
      "8        9    I      M       78       34       24          136  45.333333\n",
      "9       10    J      F       87       58       92          237  79.000000\n"
     ]
    }
   ],
   "source": [
    "#df['Average'] = df[[ 'Marks 1', 'Marks 2' , 'Marks 3' ]].mean(axis=1)\n",
    "df['Average'] = df.iloc[ : , 3:6].mean(axis=1)\n",
    "\n",
    "index_of_highest_avg = df['Average'].idxmax()\n",
    "\n",
    "\n",
    "print(\"Highest average marks is:\", df.loc[index_of_highest_avg, 'Average'])\n",
    "print(\"Name of teh student:\" ,df.loc[index_of_highest_avg, 'Name'])\n",
    "print(df)"
   ]
  },
  {
   "cell_type": "code",
   "execution_count": 62,
   "id": "bf0f3f97",
   "metadata": {},
   "outputs": [
    {
     "name": "stdout",
     "output_type": "stream",
     "text": [
      "Number of failed students: 2\n",
      "   Roll No Name Gender  Marks 1  Marks 2  Marks 3  Total marks    Average  \\\n",
      "0        1    A      M       30       45       59          134  44.666667   \n",
      "1        2    B      F       69       89       79          237  79.000000   \n",
      "2        3    C      M       40       67       68          175  58.333333   \n",
      "3        4    D      M       23       90      100          213  71.000000   \n",
      "4        5    E      F       89       99       76          264  88.000000   \n",
      "5        6    F      F       45       56       96          197  65.666667   \n",
      "6        7    G      M       92       23       35          150  50.000000   \n",
      "7        8    H      F       94       78       78          250  83.333333   \n",
      "8        9    I      M       78       34       24          136  45.333333   \n",
      "9       10    J      F       87       58       92          237  79.000000   \n",
      "\n",
      "    Pass  \n",
      "0   True  \n",
      "1   True  \n",
      "2   True  \n",
      "3   True  \n",
      "4   True  \n",
      "5   True  \n",
      "6  False  \n",
      "7   True  \n",
      "8  False  \n",
      "9   True  \n"
     ]
    }
   ],
   "source": [
    "df['Pass'] = True\n",
    "\n",
    "df['Pass'] = df['Marks 2'] > 40\n",
    "fail = len(df[df['Marks 2'] < 40])\n",
    "\n",
    "print(\"Number of failed students:\", fail)\n",
    "print(df)"
   ]
  },
  {
   "cell_type": "code",
   "execution_count": 50,
   "id": "5807d185",
   "metadata": {},
   "outputs": [
    {
     "name": "stdout",
     "output_type": "stream",
     "text": [
      "             count        mean        std         min         25%         50%  \\\n",
      "Marks 1       10.0   64.700000  27.544106   23.000000   41.250000   73.500000   \n",
      "Marks 2       10.0   63.900000  25.326534   23.000000   47.750000   62.500000   \n",
      "Marks 3       10.0   70.700000  25.170750   24.000000   61.250000   77.000000   \n",
      "Total marks   10.0  199.300000  48.401217  134.000000  156.250000  205.000000   \n",
      "Average       10.0   66.433333  16.133739   44.666667   52.083333   68.333333   \n",
      "\n",
      "                75%    max  \n",
      "Marks 1       88.50   94.0  \n",
      "Marks 2       86.25   99.0  \n",
      "Marks 3       88.75  100.0  \n",
      "Total marks  237.00  264.0  \n",
      "Average       79.00   88.0  \n"
     ]
    }
   ],
   "source": [
    "summary = df.iloc[ : , 3:].describe().T\n",
    "\n",
    "print(summary)"
   ]
  },
  {
   "cell_type": "code",
   "execution_count": null,
   "id": "2538232a",
   "metadata": {},
   "outputs": [],
   "source": []
  },
  {
   "cell_type": "code",
   "execution_count": null,
   "id": "79065d9b",
   "metadata": {},
   "outputs": [],
   "source": []
  },
  {
   "cell_type": "code",
   "execution_count": null,
   "id": "a1563c79",
   "metadata": {},
   "outputs": [],
   "source": []
  },
  {
   "cell_type": "code",
   "execution_count": null,
   "id": "8e58cee1",
   "metadata": {},
   "outputs": [],
   "source": []
  },
  {
   "cell_type": "code",
   "execution_count": null,
   "id": "58a7d9f7",
   "metadata": {},
   "outputs": [],
   "source": []
  },
  {
   "cell_type": "code",
   "execution_count": null,
   "id": "2158ef4e",
   "metadata": {},
   "outputs": [],
   "source": []
  },
  {
   "cell_type": "code",
   "execution_count": null,
   "id": "5ea351f7",
   "metadata": {},
   "outputs": [],
   "source": []
  }
 ],
 "metadata": {
  "kernelspec": {
   "display_name": "Python 3 (ipykernel)",
   "language": "python",
   "name": "python3"
  },
  "language_info": {
   "codemirror_mode": {
    "name": "ipython",
    "version": 3
   },
   "file_extension": ".py",
   "mimetype": "text/x-python",
   "name": "python",
   "nbconvert_exporter": "python",
   "pygments_lexer": "ipython3",
   "version": "3.11.5"
  }
 },
 "nbformat": 4,
 "nbformat_minor": 5
}
